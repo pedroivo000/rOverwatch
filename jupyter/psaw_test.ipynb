{
 "nbformat": 4,
 "nbformat_minor": 2,
 "metadata": {
  "language_info": {
   "name": "python",
   "codemirror_mode": {
    "name": "ipython",
    "version": 3
   },
   "version": "3.8.1"
  },
  "orig_nbformat": 2,
  "file_extension": ".py",
  "mimetype": "text/x-python",
  "name": "python",
  "npconvert_exporter": "python",
  "pygments_lexer": "ipython3",
  "version": 3
 },
 "cells": [
  {
   "cell_type": "markdown",
   "execution_count": null,
   "metadata": {},
   "outputs": [],
   "source": [
    "# Test of `psaw` package"
   ]
  },
  {
   "cell_type": "code",
   "execution_count": 14,
   "metadata": {},
   "outputs": [],
   "source": [
    "from psaw import PushshiftAPI\n",
    "import json\n"
   ]
  },
  {
   "cell_type": "code",
   "execution_count": 1,
   "metadata": {},
   "outputs": [],
   "source": [
    "\n",
    "api = PushshiftAPI()\n",
    "\n",
    "gen = api.search_submissions(subreddit = \"Overwatch\")\n",
    "max_response_cache = 1000\n",
    "cache = []\n",
    "\n",
    "for c in gen:\n",
    "    cache.append(c)\n",
    "\n",
    "    # Omit this test to actually return all results. Wouldn't recommend it though: could take a while, but you do you.\n",
    "    if len(cache) >= max_response_cache:\n",
    "        break"
   ]
  },
  {
   "cell_type": "markdown",
   "execution_count": null,
   "metadata": {},
   "outputs": [],
   "source": [
    "## `Submission` object API\n",
    "\n",
    "The methods `search_submissions` and `search_comments` return a `submission` and `comment` objects which properties can be acessed using the dot notation. You can get all properties in a dictionary by using the additional `.d_"
   ]
  },
  {
   "cell_type": "code",
   "execution_count": 3,
   "metadata": {},
   "outputs": [
    {
     "data": {
      "text/plain": "'Athena1918'"
     },
     "execution_count": 3,
     "metadata": {},
     "output_type": "execute_result"
    }
   ],
   "source": [
    "s = cache[0]\n",
    "s.author"
   ]
  },
  {
   "cell_type": "code",
   "execution_count": 4,
   "metadata": {},
   "outputs": [
    {
     "data": {
      "text/plain": "{'all_awardings': [],\n 'allow_live_comments': False,\n 'author': 'Athena1918',\n 'author_flair_css_class': None,\n 'author_flair_richtext': [],\n 'author_flair_text': None,\n 'author_flair_type': 'text',\n 'author_fullname': 't2_3nbdic1h',\n 'author_patreon_flair': False,\n 'author_premium': False,\n 'awarders': [],\n 'can_mod_post': False,\n 'content_categories': ['gaming'],\n 'contest_mode': False,\n 'created_utc': 1577717267,\n 'domain': '/r/Overwatch/comments/ehmw26/this_game_can_still_be_fun_sometimes/',\n 'full_link': 'https://www.reddit.com/r/Overwatch/comments/ehmw26/this_game_can_still_be_fun_sometimes/',\n 'gildings': {},\n 'id': 'ehmw26',\n 'is_crosspostable': True,\n 'is_meta': False,\n 'is_original_content': False,\n 'is_reddit_media_domain': False,\n 'is_robot_indexable': True,\n 'is_self': False,\n 'is_video': True,\n 'link_flair_background_color': '',\n 'link_flair_css_class': 'c',\n 'link_flair_richtext': [{'e': 'text', 't': 'Console'}],\n 'link_flair_template_id': '2a50a582-1e48-11e6-9a27-0eae2c1586a3',\n 'link_flair_text': 'Console',\n 'link_flair_text_color': 'dark',\n 'link_flair_type': 'richtext',\n 'locked': False,\n 'media_only': False,\n 'no_follow': True,\n 'num_comments': 0,\n 'num_crossposts': 0,\n 'over_18': False,\n 'parent_whitelist_status': 'all_ads',\n 'permalink': '/r/Overwatch/comments/ehmw26/this_game_can_still_be_fun_sometimes/',\n 'pinned': False,\n 'pwls': 6,\n 'retrieved_on': 1577717268,\n 'score': 1,\n 'selftext': '',\n 'send_replies': True,\n 'spoiler': False,\n 'steward_reports': [],\n 'stickied': False,\n 'subreddit': 'Overwatch',\n 'subreddit_id': 't5_2u5kl',\n 'subreddit_subscribers': 2660436,\n 'subreddit_type': 'public',\n 'thumbnail': 'default',\n 'title': 'This game can still be fun sometimes',\n 'total_awards_received': 0,\n 'url': 'https://v.redd.it/d31gbfdv9s741',\n 'whitelist_status': 'all_ads',\n 'wls': 6,\n 'created': 1577713667.0}"
     },
     "execution_count": 4,
     "metadata": {},
     "output_type": "execute_result"
    }
   ],
   "source": [
    "s.d_"
   ]
  },
  {
   "cell_type": "code",
   "execution_count": 24,
   "metadata": {},
   "outputs": [
    {
     "name": "stdout",
     "output_type": "stream",
     "text": "{\"all_awardings\": [], \"allow_live_comments\": false, \"author\": \"Athena1918\", \"author_flair_css_class\": null, \"author_flair_richtext\": [], \"author_flair_text\": null, \"author_flair_type\": \"text\", \"author_fullname\": \"t2_3nbdic1h\", \"author_patreon_flair\": false, \"author_premium\": false, \"awarders\": [], \"can_mod_post\": false, \"content_categories\": [\"gaming\"], \"contest_mode\": false, \"created_utc\": 1577717267, \"domain\": \"/r/Overwatch/comments/ehmw26/this_game_can_still_be_fun_sometimes/\", \"full_link\": \"https://www.reddit.com/r/Overwatch/comments/ehmw26/this_game_can_still_be_fun_sometimes/\", \"gildings\": {}, \"id\": \"ehmw26\", \"is_crosspostable\": true, \"is_meta\": false, \"is_original_content\": false, \"is_reddit_media_domain\": false, \"is_robot_indexable\": true, \"is_self\": false, \"is_video\": true, \"link_flair_background_color\": \"\", \"link_flair_css_class\": \"c\", \"link_flair_richtext\": [{\"e\": \"text\", \"t\": \"Console\"}], \"link_flair_template_id\": \"2a50a582-1e48-11e6-9a27-0eae2c1586a3\", \"link_flair_text\": \"Console\", \"link_flair_text_color\": \"dark\", \"link_flair_type\": \"richtext\", \"locked\": false, \"media_only\": false, \"no_follow\": true, \"num_comments\": 0, \"num_crossposts\": 0, \"over_18\": false, \"parent_whitelist_status\": \"all_ads\", \"permalink\": \"/r/Overwatch/comments/ehmw26/this_game_can_still_be_fun_sometimes/\", \"pinned\": false, \"pwls\": 6, \"retrieved_on\": 1577717268, \"score\": 1, \"selftext\": \"\", \"send_replies\": true, \"spoiler\": false, \"steward_reports\": [], \"stickied\": false, \"subreddit\": \"Overwatch\", \"subreddit_id\": \"t5_2u5kl\", \"subreddit_subscribers\": 2660436, \"subreddit_type\": \"public\", \"thumbnail\": \"default\", \"title\": \"This game can still be fun sometimes\", \"total_awards_received\": 0, \"url\": \"https://v.redd.it/d31gbfdv9s741\", \"whitelist_status\": \"all_ads\", \"wls\": 6, \"created\": 1577713667.0}\n"
    }
   ],
   "source": [
    "print(json.dumps(s.d_))"
   ]
  },
  {
   "cell_type": "code",
   "execution_count": null,
   "metadata": {},
   "outputs": [],
   "source": []
  }
 ]
}